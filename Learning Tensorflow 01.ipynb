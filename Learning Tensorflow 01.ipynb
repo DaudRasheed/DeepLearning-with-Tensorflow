{
 "cells": [
  {
   "cell_type": "code",
   "execution_count": null,
   "id": "b286d16c",
   "metadata": {},
   "outputs": [],
   "source": [
    "import os\n",
    "os.environ['CUDA_VISIBLE_DEVICES'] = '0'\n",
    "import tensorflow as tf\n"
   ]
  },
  {
   "cell_type": "code",
   "execution_count": null,
   "id": "5e5eb048",
   "metadata": {},
   "outputs": [],
   "source": [
    "#Initialiazation of tensors\n",
    "x = tf.constant(4, shape=(1,2), dtype=tf.float32)\n",
    "x = tf.zeros((1,5))\n",
    "x = tf.ones((4,2))\n",
    "x = tf.eye(3)\n",
    "\n",
    "x = tf.random.normal((3,3), mean=0, stddev=1)\n",
    "x = tf.random.uniform((2,4), minval=0, maxval=4)\n",
    "print(x)"
   ]
  },
  {
   "cell_type": "code",
   "execution_count": null,
   "id": "ad1db100",
   "metadata": {},
   "outputs": [],
   "source": [
    "#Mathematical operations\n",
    "x = tf.constant([1,2,3])\n",
    "y = tf.constant([4,5,6])\n",
    "z  = tf.add(x, y)\n",
    "\n",
    "#matrixMultiply\n",
    "x = tf.random.normal((2,3))\n",
    "y = tf.random.normal((3,3))\n",
    "z  = tf.matmul(x,y)\n",
    "\n",
    "print(z)"
   ]
  },
  {
   "cell_type": "code",
   "execution_count": null,
   "id": "53fb9d07",
   "metadata": {},
   "outputs": [],
   "source": [
    "#reshaping\n",
    "x = tf.range(9)\n",
    "print(x)\n",
    "x = tf.reshape(x, (3,3))\n",
    "print(x)"
   ]
  },
  {
   "cell_type": "markdown",
   "id": "c19e3963",
   "metadata": {},
   "source": [
    "# Building NEURAL NETWORK\n"
   ]
  },
  {
   "cell_type": "code",
   "execution_count": 2,
   "id": "536dd03a",
   "metadata": {},
   "outputs": [],
   "source": [
    "import os\n",
    "os.environ['TF_CPP_MIN_LOG_LEVEL'] = '2'"
   ]
  },
  {
   "cell_type": "code",
   "execution_count": 3,
   "id": "cfe59aee",
   "metadata": {},
   "outputs": [],
   "source": [
    "import tensorflow as tf\n",
    "from tensorflow import keras\n",
    "from tensorflow.keras import layers\n",
    "from tensorflow.keras.datasets import mnist\n"
   ]
  },
  {
   "cell_type": "code",
   "execution_count": 4,
   "id": "c777b63e",
   "metadata": {},
   "outputs": [],
   "source": [
    "(x_train, y_train), (x_test, y_test) = mnist.load_data()\n"
   ]
  },
  {
   "cell_type": "code",
   "execution_count": 5,
   "id": "f4327f17",
   "metadata": {},
   "outputs": [
    {
     "name": "stdout",
     "output_type": "stream",
     "text": [
      "(60000, 28, 28)\n",
      "(60000,)\n"
     ]
    }
   ],
   "source": [
    "print(x_train.shape)\n",
    "print(y_train.shape)"
   ]
  },
  {
   "cell_type": "markdown",
   "id": "98b80366",
   "metadata": {},
   "source": [
    "## Reshaping and dividing by 255.0 so that values will be between 0 and 1 it will easy and fast to train Model"
   ]
  },
  {
   "cell_type": "code",
   "execution_count": 6,
   "id": "81920cc7",
   "metadata": {},
   "outputs": [],
   "source": [
    "x_train = x_train.reshape(-1,28*28).astype(\"float32\") / 255.0\n",
    "x_test = x_test.reshape(-1,28*28).astype(\"float32\") / 255.0\n"
   ]
  },
  {
   "cell_type": "markdown",
   "id": "71831362",
   "metadata": {},
   "source": [
    "# Sequential API (very convinient, not very flexible)"
   ]
  },
  {
   "cell_type": "code",
   "execution_count": 7,
   "id": "58307aea",
   "metadata": {},
   "outputs": [],
   "source": [
    "# #sequential API (very convinient, not very flexible)\n",
    "# model = keras.Sequential(\n",
    "# [   keras.Input(shape=(28*28)),\n",
    "#     layers.Dense(512, activation='relu'),\n",
    "#     layers.Dense(256, activation='relu'),\n",
    "#     layers.Dense(10),\n",
    "# ])\n",
    "\n",
    "# print(model.summary())"
   ]
  },
  {
   "cell_type": "markdown",
   "id": "01b3e350",
   "metadata": {},
   "source": [
    "# Functional API"
   ]
  },
  {
   "cell_type": "code",
   "execution_count": 8,
   "id": "6d7fe3e5",
   "metadata": {},
   "outputs": [],
   "source": [
    "#Functional API\n",
    "inputs = keras.Input(shape=(784))\n",
    "x = layers.Dense(512, activation='relu')(inputs)\n",
    "x = layers.Dense(256, activation='relu')(x)\n",
    "outputs = layers.Dense(10, activation='softmax')(x)\n",
    "model = keras.Model(inputs = inputs, outputs=outputs)\n"
   ]
  },
  {
   "cell_type": "markdown",
   "id": "8ada30d8",
   "metadata": {},
   "source": [
    "# Compile Model"
   ]
  },
  {
   "cell_type": "code",
   "execution_count": 16,
   "id": "242127f1",
   "metadata": {},
   "outputs": [],
   "source": [
    "model.compile(\n",
    "    \n",
    "    loss = keras.losses.SparseCategoricalCrossentropy(from_logits=False),\n",
    "    optimizer = keras.optimizers.Adam(learning_rate=0.001),\n",
    "    metrics = [\"accuracy\"]\n",
    "    \n",
    ")"
   ]
  },
  {
   "cell_type": "markdown",
   "id": "ab05ee86",
   "metadata": {},
   "source": [
    "# Training Model on DATASET"
   ]
  },
  {
   "cell_type": "code",
   "execution_count": 17,
   "id": "dfa3dc8f",
   "metadata": {},
   "outputs": [
    {
     "name": "stdout",
     "output_type": "stream",
     "text": [
      "Epoch 1/10\n",
      "1875/1875 - 6s - loss: 0.0572 - accuracy: 0.9851 - 6s/epoch - 3ms/step\n",
      "Epoch 2/10\n",
      "1875/1875 - 5s - loss: 0.0382 - accuracy: 0.9892 - 5s/epoch - 3ms/step\n",
      "Epoch 3/10\n",
      "1875/1875 - 7s - loss: 0.0284 - accuracy: 0.9913 - 7s/epoch - 4ms/step\n",
      "Epoch 4/10\n",
      "1875/1875 - 12s - loss: 0.0236 - accuracy: 0.9929 - 12s/epoch - 6ms/step\n",
      "Epoch 5/10\n",
      "1875/1875 - 13s - loss: 0.0200 - accuracy: 0.9938 - 13s/epoch - 7ms/step\n",
      "Epoch 6/10\n",
      "1875/1875 - 11s - loss: 0.0172 - accuracy: 0.9942 - 11s/epoch - 6ms/step\n",
      "Epoch 7/10\n",
      "1875/1875 - 11s - loss: 0.0139 - accuracy: 0.9954 - 11s/epoch - 6ms/step\n",
      "Epoch 8/10\n",
      "1875/1875 - 13s - loss: 0.0126 - accuracy: 0.9957 - 13s/epoch - 7ms/step\n",
      "Epoch 9/10\n",
      "1875/1875 - 13s - loss: 0.0104 - accuracy: 0.9968 - 13s/epoch - 7ms/step\n",
      "Epoch 10/10\n",
      "1875/1875 - 13s - loss: 0.0093 - accuracy: 0.9969 - 13s/epoch - 7ms/step\n"
     ]
    },
    {
     "data": {
      "text/plain": [
       "<keras.callbacks.History at 0x19eaf253490>"
      ]
     },
     "execution_count": 17,
     "metadata": {},
     "output_type": "execute_result"
    }
   ],
   "source": [
    "model.fit(x_train, y_train, batch_size = 32, epochs = 10, verbose = 2)\n"
   ]
  },
  {
   "cell_type": "markdown",
   "id": "71da21d9",
   "metadata": {},
   "source": [
    "# Testing MOdel on Test dataset"
   ]
  },
  {
   "cell_type": "code",
   "execution_count": 18,
   "id": "06bb35d5",
   "metadata": {},
   "outputs": [
    {
     "name": "stdout",
     "output_type": "stream",
     "text": [
      "313/313 - 2s - loss: 0.1896 - accuracy: 0.9800 - 2s/epoch - 8ms/step\n"
     ]
    },
    {
     "data": {
      "text/plain": [
       "[0.18956157565116882, 0.9800000190734863]"
      ]
     },
     "execution_count": 18,
     "metadata": {},
     "output_type": "execute_result"
    }
   ],
   "source": [
    "model.evaluate(x_test, y_test, batch_size= 32, verbose = 2)"
   ]
  },
  {
   "cell_type": "code",
   "execution_count": null,
   "id": "ad9a82f0",
   "metadata": {},
   "outputs": [],
   "source": []
  }
 ],
 "metadata": {
  "kernelspec": {
   "display_name": "Python 3 (ipykernel)",
   "language": "python",
   "name": "python3"
  },
  "language_info": {
   "codemirror_mode": {
    "name": "ipython",
    "version": 3
   },
   "file_extension": ".py",
   "mimetype": "text/x-python",
   "name": "python",
   "nbconvert_exporter": "python",
   "pygments_lexer": "ipython3",
   "version": "3.9.16"
  }
 },
 "nbformat": 4,
 "nbformat_minor": 5
}
